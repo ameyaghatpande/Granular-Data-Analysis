{
 "cells": [
  {
   "cell_type": "markdown",
   "metadata": {},
   "source": [
    "#### Python code for Data analysis of the Granular dataset\n",
    "#### By Ameya Ghatpande on Jan-18-2018"
   ]
  },
  {
   "cell_type": "code",
   "execution_count": 90,
   "metadata": {
    "collapsed": true
   },
   "outputs": [],
   "source": [
    "# <aghatpande> on 18-Jan-2018\n",
    "# print all the outputs in a cell\n",
    "from IPython.core.interactiveshell import InteractiveShell\n",
    "InteractiveShell.ast_node_interactivity = \"all\""
   ]
  },
  {
   "cell_type": "code",
   "execution_count": 91,
   "metadata": {
    "collapsed": true
   },
   "outputs": [],
   "source": [
    "# <aghatpande> on 18-Jan-2018\n",
    "# Import all the libraries\n",
    "import pandas as pd\n",
    "import matplotlib.pyplot as plt"
   ]
  },
  {
   "cell_type": "code",
   "execution_count": 92,
   "metadata": {
    "collapsed": false
   },
   "outputs": [
    {
     "name": "stdout",
     "output_type": "stream",
     "text": [
      "('Length of toys_fields is ', 417)\n",
      "('Length of toys_orgs is ', 21)\n",
      "('Length of toys_yields is ', 417)\n"
     ]
    }
   ],
   "source": [
    "toyFieldsDF = pd.read_csv(\"toy_fields.csv\", index_col=False)\n",
    "print(\"Length of toys_fields is \", len(toyFieldsDF))\n",
    "toyOrgsDF = pd.read_csv(\"toy_orgs.csv\")\n",
    "print(\"Length of toys_orgs is \", len(toyOrgsDF))\n",
    "toyYieldsDF = pd.read_csv(\"toy_yields.csv\")\n",
    "print(\"Length of toys_yields is \", len(toyYieldsDF))"
   ]
  },
  {
   "cell_type": "markdown",
   "metadata": {},
   "source": [
    "### Lets try to solve the first expectation - We expect yield data to have one yield per org, year, field "
   ]
  },
  {
   "cell_type": "markdown",
   "metadata": {},
   "source": [
    "#### There is no Primary key associated with any of the tables. I am checking some sample values to see if there is 1:1 mapping between the toy_fields and toy_yields table"
   ]
  },
  {
   "cell_type": "code",
   "execution_count": 93,
   "metadata": {
    "collapsed": false
   },
   "outputs": [
    {
     "data": {
      "text/html": [
       "<div>\n",
       "<table border=\"1\" class=\"dataframe\">\n",
       "  <thead>\n",
       "    <tr style=\"text-align: right;\">\n",
       "      <th></th>\n",
       "      <th>field_id</th>\n",
       "      <th>org_id</th>\n",
       "      <th>year</th>\n",
       "      <th>field_area</th>\n",
       "      <th>field_area_unit</th>\n",
       "    </tr>\n",
       "  </thead>\n",
       "  <tbody>\n",
       "    <tr>\n",
       "      <th>0</th>\n",
       "      <td>cb1e3bd821dd673a0c378b16ba97075919aa993a</td>\n",
       "      <td>0966e34316e39217e4f26fbe20fc14e24c26567b</td>\n",
       "      <td>2016</td>\n",
       "      <td>307.185719</td>\n",
       "      <td>acre</td>\n",
       "    </tr>\n",
       "    <tr>\n",
       "      <th>1</th>\n",
       "      <td>58d04a7094c1b08e9856932a02104d2a36b7b8ce</td>\n",
       "      <td>726cce9d9800d792d1e0fbb83923ac4c6be4f668</td>\n",
       "      <td>2014</td>\n",
       "      <td>213.680671</td>\n",
       "      <td>acre</td>\n",
       "    </tr>\n",
       "    <tr>\n",
       "      <th>2</th>\n",
       "      <td>5e3babe7b318f4245ceb16718665af0b54335443</td>\n",
       "      <td>598d17ec200eeb9e27ae829746ccf47c57761bc1</td>\n",
       "      <td>2015</td>\n",
       "      <td>160.063342</td>\n",
       "      <td>acre</td>\n",
       "    </tr>\n",
       "  </tbody>\n",
       "</table>\n",
       "</div>"
      ],
      "text/plain": [
       "                                   field_id  \\\n",
       "0  cb1e3bd821dd673a0c378b16ba97075919aa993a   \n",
       "1  58d04a7094c1b08e9856932a02104d2a36b7b8ce   \n",
       "2  5e3babe7b318f4245ceb16718665af0b54335443   \n",
       "\n",
       "                                     org_id  year  field_area field_area_unit  \n",
       "0  0966e34316e39217e4f26fbe20fc14e24c26567b  2016  307.185719            acre  \n",
       "1  726cce9d9800d792d1e0fbb83923ac4c6be4f668  2014  213.680671            acre  \n",
       "2  598d17ec200eeb9e27ae829746ccf47c57761bc1  2015  160.063342            acre  "
      ]
     },
     "execution_count": 93,
     "metadata": {},
     "output_type": "execute_result"
    },
    {
     "data": {
      "text/html": [
       "<div>\n",
       "<table border=\"1\" class=\"dataframe\">\n",
       "  <thead>\n",
       "    <tr style=\"text-align: right;\">\n",
       "      <th></th>\n",
       "      <th>crop_type</th>\n",
       "      <th>year</th>\n",
       "      <th>harvest_product</th>\n",
       "      <th>total_harvested</th>\n",
       "      <th>harvested_unit</th>\n",
       "      <th>planted_area</th>\n",
       "      <th>harvested_area</th>\n",
       "      <th>field_id</th>\n",
       "      <th>org_id</th>\n",
       "    </tr>\n",
       "  </thead>\n",
       "  <tbody>\n",
       "    <tr>\n",
       "      <th>0</th>\n",
       "      <td>CROP.CORN.COMMERCIAL</td>\n",
       "      <td>2016</td>\n",
       "      <td>grain</td>\n",
       "      <td>53290.628852</td>\n",
       "      <td>bu</td>\n",
       "      <td>40.38</td>\n",
       "      <td>560.0</td>\n",
       "      <td>cb1e3bd821dd673a0c378b16ba97075919aa993a</td>\n",
       "      <td>0966e34316e39217e4f26fbe20fc14e24c26567b</td>\n",
       "    </tr>\n",
       "    <tr>\n",
       "      <th>1</th>\n",
       "      <td>CROP.CORN.COMMERCIAL</td>\n",
       "      <td>2014</td>\n",
       "      <td>grain</td>\n",
       "      <td>40073.821554</td>\n",
       "      <td>bu</td>\n",
       "      <td>NaN</td>\n",
       "      <td>NaN</td>\n",
       "      <td>58d04a7094c1b08e9856932a02104d2a36b7b8ce</td>\n",
       "      <td>726cce9d9800d792d1e0fbb83923ac4c6be4f668</td>\n",
       "    </tr>\n",
       "    <tr>\n",
       "      <th>2</th>\n",
       "      <td>CROP.CORN.COMMERCIAL</td>\n",
       "      <td>2015</td>\n",
       "      <td>grain</td>\n",
       "      <td>45528.033941</td>\n",
       "      <td>bu</td>\n",
       "      <td>148.61</td>\n",
       "      <td>NaN</td>\n",
       "      <td>5e3babe7b318f4245ceb16718665af0b54335443</td>\n",
       "      <td>598d17ec200eeb9e27ae829746ccf47c57761bc1</td>\n",
       "    </tr>\n",
       "  </tbody>\n",
       "</table>\n",
       "</div>"
      ],
      "text/plain": [
       "              crop_type  year harvest_product  total_harvested harvested_unit  \\\n",
       "0  CROP.CORN.COMMERCIAL  2016           grain     53290.628852             bu   \n",
       "1  CROP.CORN.COMMERCIAL  2014           grain     40073.821554             bu   \n",
       "2  CROP.CORN.COMMERCIAL  2015           grain     45528.033941             bu   \n",
       "\n",
       "   planted_area  harvested_area                                  field_id  \\\n",
       "0         40.38           560.0  cb1e3bd821dd673a0c378b16ba97075919aa993a   \n",
       "1           NaN             NaN  58d04a7094c1b08e9856932a02104d2a36b7b8ce   \n",
       "2        148.61             NaN  5e3babe7b318f4245ceb16718665af0b54335443   \n",
       "\n",
       "                                     org_id  \n",
       "0  0966e34316e39217e4f26fbe20fc14e24c26567b  \n",
       "1  726cce9d9800d792d1e0fbb83923ac4c6be4f668  \n",
       "2  598d17ec200eeb9e27ae829746ccf47c57761bc1  "
      ]
     },
     "execution_count": 93,
     "metadata": {},
     "output_type": "execute_result"
    }
   ],
   "source": [
    "toyFieldsDF.loc[0:2, :]\n",
    "toyYieldsDF.loc[0:2, :]"
   ]
  },
  {
   "cell_type": "markdown",
   "metadata": {},
   "source": [
    "#### The size of toy_fields and toy_yields tables is same (417) and following columns in both the tables match, \n",
    "#### org_id , field_id and year\n",
    "#### I am assuming they can be merged together to form a big table."
   ]
  },
  {
   "cell_type": "code",
   "execution_count": 118,
   "metadata": {
    "collapsed": false
   },
   "outputs": [
    {
     "data": {
      "text/plain": [
       "417"
      ]
     },
     "execution_count": 118,
     "metadata": {},
     "output_type": "execute_result"
    },
    {
     "data": {
      "text/html": [
       "<div>\n",
       "<table border=\"1\" class=\"dataframe\">\n",
       "  <thead>\n",
       "    <tr style=\"text-align: right;\">\n",
       "      <th></th>\n",
       "      <th>field_id_x</th>\n",
       "      <th>org_id_x</th>\n",
       "      <th>year_x</th>\n",
       "      <th>field_area</th>\n",
       "      <th>field_area_unit</th>\n",
       "      <th>crop_type</th>\n",
       "      <th>year_y</th>\n",
       "      <th>harvest_product</th>\n",
       "      <th>total_harvested</th>\n",
       "      <th>harvested_unit</th>\n",
       "      <th>planted_area</th>\n",
       "      <th>harvested_area</th>\n",
       "      <th>field_id_y</th>\n",
       "      <th>org_id_y</th>\n",
       "    </tr>\n",
       "  </thead>\n",
       "  <tbody>\n",
       "    <tr>\n",
       "      <th>0</th>\n",
       "      <td>cb1e3bd821dd673a0c378b16ba97075919aa993a</td>\n",
       "      <td>0966e34316e39217e4f26fbe20fc14e24c26567b</td>\n",
       "      <td>2016</td>\n",
       "      <td>307.185719</td>\n",
       "      <td>acre</td>\n",
       "      <td>CROP.CORN.COMMERCIAL</td>\n",
       "      <td>2016</td>\n",
       "      <td>grain</td>\n",
       "      <td>53290.628852</td>\n",
       "      <td>bu</td>\n",
       "      <td>40.38</td>\n",
       "      <td>560.0</td>\n",
       "      <td>cb1e3bd821dd673a0c378b16ba97075919aa993a</td>\n",
       "      <td>0966e34316e39217e4f26fbe20fc14e24c26567b</td>\n",
       "    </tr>\n",
       "    <tr>\n",
       "      <th>1</th>\n",
       "      <td>58d04a7094c1b08e9856932a02104d2a36b7b8ce</td>\n",
       "      <td>726cce9d9800d792d1e0fbb83923ac4c6be4f668</td>\n",
       "      <td>2014</td>\n",
       "      <td>213.680671</td>\n",
       "      <td>acre</td>\n",
       "      <td>CROP.CORN.COMMERCIAL</td>\n",
       "      <td>2014</td>\n",
       "      <td>grain</td>\n",
       "      <td>40073.821554</td>\n",
       "      <td>bu</td>\n",
       "      <td>NaN</td>\n",
       "      <td>NaN</td>\n",
       "      <td>58d04a7094c1b08e9856932a02104d2a36b7b8ce</td>\n",
       "      <td>726cce9d9800d792d1e0fbb83923ac4c6be4f668</td>\n",
       "    </tr>\n",
       "  </tbody>\n",
       "</table>\n",
       "</div>"
      ],
      "text/plain": [
       "                                 field_id_x  \\\n",
       "0  cb1e3bd821dd673a0c378b16ba97075919aa993a   \n",
       "1  58d04a7094c1b08e9856932a02104d2a36b7b8ce   \n",
       "\n",
       "                                   org_id_x  year_x  field_area  \\\n",
       "0  0966e34316e39217e4f26fbe20fc14e24c26567b    2016  307.185719   \n",
       "1  726cce9d9800d792d1e0fbb83923ac4c6be4f668    2014  213.680671   \n",
       "\n",
       "  field_area_unit             crop_type  year_y harvest_product  \\\n",
       "0            acre  CROP.CORN.COMMERCIAL    2016           grain   \n",
       "1            acre  CROP.CORN.COMMERCIAL    2014           grain   \n",
       "\n",
       "   total_harvested harvested_unit  planted_area  harvested_area  \\\n",
       "0     53290.628852             bu         40.38           560.0   \n",
       "1     40073.821554             bu           NaN             NaN   \n",
       "\n",
       "                                 field_id_y  \\\n",
       "0  cb1e3bd821dd673a0c378b16ba97075919aa993a   \n",
       "1  58d04a7094c1b08e9856932a02104d2a36b7b8ce   \n",
       "\n",
       "                                   org_id_y  \n",
       "0  0966e34316e39217e4f26fbe20fc14e24c26567b  \n",
       "1  726cce9d9800d792d1e0fbb83923ac4c6be4f668  "
      ]
     },
     "execution_count": 118,
     "metadata": {},
     "output_type": "execute_result"
    }
   ],
   "source": [
    "# <aghatpande> on 18-Jan-2018\n",
    "# Combining Field data and Yield data\n",
    "fieldAndYieldCombinedDF = pd.merge(toyFieldsDF, toyYieldsDF, left_index=True, right_index=True)\n",
    "len(fieldAndYieldCombinedDF)\n",
    "fieldAndYieldCombinedDF.head(2)"
   ]
  },
  {
   "cell_type": "code",
   "execution_count": 119,
   "metadata": {
    "collapsed": false
   },
   "outputs": [
    {
     "data": {
      "text/plain": [
       "field_id_x         False\n",
       "org_id_x           False\n",
       "year_x             False\n",
       "field_area         False\n",
       "field_area_unit    False\n",
       "crop_type          False\n",
       "year_y             False\n",
       "harvest_product    False\n",
       "total_harvested    False\n",
       "harvested_unit     False\n",
       "planted_area        True\n",
       "harvested_area      True\n",
       "field_id_y         False\n",
       "org_id_y           False\n",
       "dtype: bool"
      ]
     },
     "execution_count": 119,
     "metadata": {},
     "output_type": "execute_result"
    }
   ],
   "source": [
    "# <aghatpande> on 18-Jan-2018\n",
    "# Check if there are any NUlls/Missing values in any columns\n",
    "pd.isnull(fieldAndYieldCombinedDF).sum() > 0"
   ]
  },
  {
   "cell_type": "markdown",
   "metadata": {},
   "source": [
    "#### Since harvested_area column has NaN/Null values, we cannot calculate yeild per org, field, year. We cannot use field_area because field_area will be different than harvested_area"
   ]
  },
  {
   "cell_type": "markdown",
   "metadata": {},
   "source": [
    "### Lets try to solve the second expectation - We expect field data to have one acreage measure per field\n",
    "#### Lets check if each field has one acreage"
   ]
  },
  {
   "cell_type": "code",
   "execution_count": 120,
   "metadata": {
    "collapsed": false
   },
   "outputs": [
    {
     "data": {
      "text/html": [
       "<div>\n",
       "<table border=\"1\" class=\"dataframe\">\n",
       "  <thead>\n",
       "    <tr style=\"text-align: right;\">\n",
       "      <th></th>\n",
       "      <th>field_id</th>\n",
       "      <th>org_id</th>\n",
       "      <th>year</th>\n",
       "      <th>field_area</th>\n",
       "      <th>field_area_unit</th>\n",
       "    </tr>\n",
       "  </thead>\n",
       "  <tbody>\n",
       "    <tr>\n",
       "      <th>407</th>\n",
       "      <td>930a31b273111ac76f4f8785152d93e799150f9c</td>\n",
       "      <td>598d17ec200eeb9e27ae829746ccf47c57761bc1</td>\n",
       "      <td>2015</td>\n",
       "      <td>2.839143</td>\n",
       "      <td>acre</td>\n",
       "    </tr>\n",
       "    <tr>\n",
       "      <th>235</th>\n",
       "      <td>cda306e104b49f08dafdcc3f0ae8f34a2a265ba0</td>\n",
       "      <td>fe62dee029474d52346542845674529025594056</td>\n",
       "      <td>2017</td>\n",
       "      <td>7.484157</td>\n",
       "      <td>acre</td>\n",
       "    </tr>\n",
       "    <tr>\n",
       "      <th>389</th>\n",
       "      <td>4d5b90ee18d570ec6b0dc27f64e44ee714b71d72</td>\n",
       "      <td>fe62dee029474d52346542845674529025594056</td>\n",
       "      <td>2016</td>\n",
       "      <td>9.699646</td>\n",
       "      <td>acre</td>\n",
       "    </tr>\n",
       "    <tr>\n",
       "      <th>95</th>\n",
       "      <td>6a0a29666d8f8a14360dae95a0369dceb6561c6f</td>\n",
       "      <td>598d17ec200eeb9e27ae829746ccf47c57761bc1</td>\n",
       "      <td>2016</td>\n",
       "      <td>10.549866</td>\n",
       "      <td>acre</td>\n",
       "    </tr>\n",
       "    <tr>\n",
       "      <th>328</th>\n",
       "      <td>4f066ef6d07405fb98f7c15a1d8a080013863a9f</td>\n",
       "      <td>106e6791d0f181b391cde800e74fdc14d529dc0a</td>\n",
       "      <td>2014</td>\n",
       "      <td>12.536361</td>\n",
       "      <td>acre</td>\n",
       "    </tr>\n",
       "  </tbody>\n",
       "</table>\n",
       "</div>"
      ],
      "text/plain": [
       "                                     field_id  \\\n",
       "407  930a31b273111ac76f4f8785152d93e799150f9c   \n",
       "235  cda306e104b49f08dafdcc3f0ae8f34a2a265ba0   \n",
       "389  4d5b90ee18d570ec6b0dc27f64e44ee714b71d72   \n",
       "95   6a0a29666d8f8a14360dae95a0369dceb6561c6f   \n",
       "328  4f066ef6d07405fb98f7c15a1d8a080013863a9f   \n",
       "\n",
       "                                       org_id  year  field_area  \\\n",
       "407  598d17ec200eeb9e27ae829746ccf47c57761bc1  2015    2.839143   \n",
       "235  fe62dee029474d52346542845674529025594056  2017    7.484157   \n",
       "389  fe62dee029474d52346542845674529025594056  2016    9.699646   \n",
       "95   598d17ec200eeb9e27ae829746ccf47c57761bc1  2016   10.549866   \n",
       "328  106e6791d0f181b391cde800e74fdc14d529dc0a  2014   12.536361   \n",
       "\n",
       "    field_area_unit  \n",
       "407            acre  \n",
       "235            acre  \n",
       "389            acre  \n",
       "95             acre  \n",
       "328            acre  "
      ]
     },
     "execution_count": 120,
     "metadata": {},
     "output_type": "execute_result"
    },
    {
     "name": "stdout",
     "output_type": "stream",
     "text": [
      "('Number of fields with field_area Zero Acreage are ', 0)\n"
     ]
    }
   ],
   "source": [
    "# <aghatpande> on 18-Jan-2018\n",
    "# Sort the field_area by Ascending order and check if any one has 0 value\n",
    "toyFieldsDF.sort_values(by = \"field_area\", inplace=True)\n",
    "toyFieldsDF.head(5)\n",
    "fieldWithZeroAcreageDF = toyFieldsDF[toyFieldsDF.field_area == 0]\n",
    "print(\"Number of fields with field_area Zero Acreage are \", len(fieldWithZeroAcreageDF))"
   ]
  },
  {
   "cell_type": "markdown",
   "metadata": {},
   "source": [
    "#### Lets take a sample field and see if it has one/same acreage "
   ]
  },
  {
   "cell_type": "code",
   "execution_count": 122,
   "metadata": {
    "collapsed": false,
    "scrolled": false
   },
   "outputs": [
    {
     "data": {
      "text/plain": [
       "21"
      ]
     },
     "execution_count": 122,
     "metadata": {},
     "output_type": "execute_result"
    },
    {
     "name": "stderr",
     "output_type": "stream",
     "text": [
      "/Users/test/Library/Enthought/Canopy_64bit/User/lib/python2.7/site-packages/ipykernel/__main__.py:3: SettingWithCopyWarning:\n",
      "\n",
      "\n",
      "A value is trying to be set on a copy of a slice from a DataFrame\n",
      "\n",
      "See the caveats in the documentation: http://pandas.pydata.org/pandas-docs/stable/indexing.html#indexing-view-versus-copy\n",
      "\n"
     ]
    },
    {
     "data": {
      "text/html": [
       "<div>\n",
       "<table border=\"1\" class=\"dataframe\">\n",
       "  <thead>\n",
       "    <tr style=\"text-align: right;\">\n",
       "      <th></th>\n",
       "      <th>field_id</th>\n",
       "      <th>org_id</th>\n",
       "      <th>year</th>\n",
       "      <th>field_area</th>\n",
       "      <th>field_area_unit</th>\n",
       "    </tr>\n",
       "  </thead>\n",
       "  <tbody>\n",
       "    <tr>\n",
       "      <th>193</th>\n",
       "      <td>17ba0791499db908433b80f37c5fbc89b870084b</td>\n",
       "      <td>fe62dee029474d52346542845674529025594056</td>\n",
       "      <td>2015</td>\n",
       "      <td>290.735574</td>\n",
       "      <td>acre</td>\n",
       "    </tr>\n",
       "    <tr>\n",
       "      <th>409</th>\n",
       "      <td>17ba0791499db908433b80f37c5fbc89b870084b</td>\n",
       "      <td>fe62dee029474d52346542845674529025594056</td>\n",
       "      <td>2015</td>\n",
       "      <td>545.230446</td>\n",
       "      <td>acre</td>\n",
       "    </tr>\n",
       "    <tr>\n",
       "      <th>107</th>\n",
       "      <td>17ba0791499db908433b80f37c5fbc89b870084b</td>\n",
       "      <td>fe62dee029474d52346542845674529025594056</td>\n",
       "      <td>2015</td>\n",
       "      <td>412.953978</td>\n",
       "      <td>acre</td>\n",
       "    </tr>\n",
       "    <tr>\n",
       "      <th>88</th>\n",
       "      <td>17ba0791499db908433b80f37c5fbc89b870084b</td>\n",
       "      <td>fe62dee029474d52346542845674529025594056</td>\n",
       "      <td>2015</td>\n",
       "      <td>317.400731</td>\n",
       "      <td>acre</td>\n",
       "    </tr>\n",
       "    <tr>\n",
       "      <th>387</th>\n",
       "      <td>17ba0791499db908433b80f37c5fbc89b870084b</td>\n",
       "      <td>fe62dee029474d52346542845674529025594056</td>\n",
       "      <td>2015</td>\n",
       "      <td>287.708372</td>\n",
       "      <td>acre</td>\n",
       "    </tr>\n",
       "    <tr>\n",
       "      <th>362</th>\n",
       "      <td>17ba0791499db908433b80f37c5fbc89b870084b</td>\n",
       "      <td>fe62dee029474d52346542845674529025594056</td>\n",
       "      <td>2015</td>\n",
       "      <td>202.271296</td>\n",
       "      <td>acre</td>\n",
       "    </tr>\n",
       "    <tr>\n",
       "      <th>17</th>\n",
       "      <td>17ba0791499db908433b80f37c5fbc89b870084b</td>\n",
       "      <td>fe62dee029474d52346542845674529025594056</td>\n",
       "      <td>2015</td>\n",
       "      <td>685.826880</td>\n",
       "      <td>acre</td>\n",
       "    </tr>\n",
       "    <tr>\n",
       "      <th>69</th>\n",
       "      <td>17ba0791499db908433b80f37c5fbc89b870084b</td>\n",
       "      <td>fe62dee029474d52346542845674529025594056</td>\n",
       "      <td>2015</td>\n",
       "      <td>135.797506</td>\n",
       "      <td>acre</td>\n",
       "    </tr>\n",
       "    <tr>\n",
       "      <th>224</th>\n",
       "      <td>17ba0791499db908433b80f37c5fbc89b870084b</td>\n",
       "      <td>fe62dee029474d52346542845674529025594056</td>\n",
       "      <td>2015</td>\n",
       "      <td>108.780552</td>\n",
       "      <td>acre</td>\n",
       "    </tr>\n",
       "    <tr>\n",
       "      <th>84</th>\n",
       "      <td>17ba0791499db908433b80f37c5fbc89b870084b</td>\n",
       "      <td>fe62dee029474d52346542845674529025594056</td>\n",
       "      <td>2015</td>\n",
       "      <td>97.541415</td>\n",
       "      <td>acre</td>\n",
       "    </tr>\n",
       "    <tr>\n",
       "      <th>159</th>\n",
       "      <td>17ba0791499db908433b80f37c5fbc89b870084b</td>\n",
       "      <td>fe62dee029474d52346542845674529025594056</td>\n",
       "      <td>2015</td>\n",
       "      <td>159.229421</td>\n",
       "      <td>acre</td>\n",
       "    </tr>\n",
       "    <tr>\n",
       "      <th>350</th>\n",
       "      <td>17ba0791499db908433b80f37c5fbc89b870084b</td>\n",
       "      <td>fe62dee029474d52346542845674529025594056</td>\n",
       "      <td>2016</td>\n",
       "      <td>209.996815</td>\n",
       "      <td>acre</td>\n",
       "    </tr>\n",
       "    <tr>\n",
       "      <th>248</th>\n",
       "      <td>17ba0791499db908433b80f37c5fbc89b870084b</td>\n",
       "      <td>fe62dee029474d52346542845674529025594056</td>\n",
       "      <td>2016</td>\n",
       "      <td>556.489916</td>\n",
       "      <td>acre</td>\n",
       "    </tr>\n",
       "    <tr>\n",
       "      <th>303</th>\n",
       "      <td>17ba0791499db908433b80f37c5fbc89b870084b</td>\n",
       "      <td>fe62dee029474d52346542845674529025594056</td>\n",
       "      <td>2016</td>\n",
       "      <td>337.718651</td>\n",
       "      <td>acre</td>\n",
       "    </tr>\n",
       "    <tr>\n",
       "      <th>140</th>\n",
       "      <td>17ba0791499db908433b80f37c5fbc89b870084b</td>\n",
       "      <td>fe62dee029474d52346542845674529025594056</td>\n",
       "      <td>2016</td>\n",
       "      <td>485.123082</td>\n",
       "      <td>acre</td>\n",
       "    </tr>\n",
       "    <tr>\n",
       "      <th>147</th>\n",
       "      <td>17ba0791499db908433b80f37c5fbc89b870084b</td>\n",
       "      <td>fe62dee029474d52346542845674529025594056</td>\n",
       "      <td>2016</td>\n",
       "      <td>93.481398</td>\n",
       "      <td>acre</td>\n",
       "    </tr>\n",
       "    <tr>\n",
       "      <th>378</th>\n",
       "      <td>17ba0791499db908433b80f37c5fbc89b870084b</td>\n",
       "      <td>fe62dee029474d52346542845674529025594056</td>\n",
       "      <td>2017</td>\n",
       "      <td>239.843347</td>\n",
       "      <td>acre</td>\n",
       "    </tr>\n",
       "    <tr>\n",
       "      <th>18</th>\n",
       "      <td>17ba0791499db908433b80f37c5fbc89b870084b</td>\n",
       "      <td>fe62dee029474d52346542845674529025594056</td>\n",
       "      <td>2017</td>\n",
       "      <td>295.680038</td>\n",
       "      <td>acre</td>\n",
       "    </tr>\n",
       "    <tr>\n",
       "      <th>85</th>\n",
       "      <td>17ba0791499db908433b80f37c5fbc89b870084b</td>\n",
       "      <td>fe62dee029474d52346542845674529025594056</td>\n",
       "      <td>2017</td>\n",
       "      <td>320.127683</td>\n",
       "      <td>acre</td>\n",
       "    </tr>\n",
       "    <tr>\n",
       "      <th>105</th>\n",
       "      <td>17ba0791499db908433b80f37c5fbc89b870084b</td>\n",
       "      <td>fe62dee029474d52346542845674529025594056</td>\n",
       "      <td>2017</td>\n",
       "      <td>385.953665</td>\n",
       "      <td>acre</td>\n",
       "    </tr>\n",
       "    <tr>\n",
       "      <th>94</th>\n",
       "      <td>17ba0791499db908433b80f37c5fbc89b870084b</td>\n",
       "      <td>fe62dee029474d52346542845674529025594056</td>\n",
       "      <td>2017</td>\n",
       "      <td>61.462671</td>\n",
       "      <td>acre</td>\n",
       "    </tr>\n",
       "  </tbody>\n",
       "</table>\n",
       "</div>"
      ],
      "text/plain": [
       "                                     field_id  \\\n",
       "193  17ba0791499db908433b80f37c5fbc89b870084b   \n",
       "409  17ba0791499db908433b80f37c5fbc89b870084b   \n",
       "107  17ba0791499db908433b80f37c5fbc89b870084b   \n",
       "88   17ba0791499db908433b80f37c5fbc89b870084b   \n",
       "387  17ba0791499db908433b80f37c5fbc89b870084b   \n",
       "362  17ba0791499db908433b80f37c5fbc89b870084b   \n",
       "17   17ba0791499db908433b80f37c5fbc89b870084b   \n",
       "69   17ba0791499db908433b80f37c5fbc89b870084b   \n",
       "224  17ba0791499db908433b80f37c5fbc89b870084b   \n",
       "84   17ba0791499db908433b80f37c5fbc89b870084b   \n",
       "159  17ba0791499db908433b80f37c5fbc89b870084b   \n",
       "350  17ba0791499db908433b80f37c5fbc89b870084b   \n",
       "248  17ba0791499db908433b80f37c5fbc89b870084b   \n",
       "303  17ba0791499db908433b80f37c5fbc89b870084b   \n",
       "140  17ba0791499db908433b80f37c5fbc89b870084b   \n",
       "147  17ba0791499db908433b80f37c5fbc89b870084b   \n",
       "378  17ba0791499db908433b80f37c5fbc89b870084b   \n",
       "18   17ba0791499db908433b80f37c5fbc89b870084b   \n",
       "85   17ba0791499db908433b80f37c5fbc89b870084b   \n",
       "105  17ba0791499db908433b80f37c5fbc89b870084b   \n",
       "94   17ba0791499db908433b80f37c5fbc89b870084b   \n",
       "\n",
       "                                       org_id  year  field_area  \\\n",
       "193  fe62dee029474d52346542845674529025594056  2015  290.735574   \n",
       "409  fe62dee029474d52346542845674529025594056  2015  545.230446   \n",
       "107  fe62dee029474d52346542845674529025594056  2015  412.953978   \n",
       "88   fe62dee029474d52346542845674529025594056  2015  317.400731   \n",
       "387  fe62dee029474d52346542845674529025594056  2015  287.708372   \n",
       "362  fe62dee029474d52346542845674529025594056  2015  202.271296   \n",
       "17   fe62dee029474d52346542845674529025594056  2015  685.826880   \n",
       "69   fe62dee029474d52346542845674529025594056  2015  135.797506   \n",
       "224  fe62dee029474d52346542845674529025594056  2015  108.780552   \n",
       "84   fe62dee029474d52346542845674529025594056  2015   97.541415   \n",
       "159  fe62dee029474d52346542845674529025594056  2015  159.229421   \n",
       "350  fe62dee029474d52346542845674529025594056  2016  209.996815   \n",
       "248  fe62dee029474d52346542845674529025594056  2016  556.489916   \n",
       "303  fe62dee029474d52346542845674529025594056  2016  337.718651   \n",
       "140  fe62dee029474d52346542845674529025594056  2016  485.123082   \n",
       "147  fe62dee029474d52346542845674529025594056  2016   93.481398   \n",
       "378  fe62dee029474d52346542845674529025594056  2017  239.843347   \n",
       "18   fe62dee029474d52346542845674529025594056  2017  295.680038   \n",
       "85   fe62dee029474d52346542845674529025594056  2017  320.127683   \n",
       "105  fe62dee029474d52346542845674529025594056  2017  385.953665   \n",
       "94   fe62dee029474d52346542845674529025594056  2017   61.462671   \n",
       "\n",
       "    field_area_unit  \n",
       "193            acre  \n",
       "409            acre  \n",
       "107            acre  \n",
       "88             acre  \n",
       "387            acre  \n",
       "362            acre  \n",
       "17             acre  \n",
       "69             acre  \n",
       "224            acre  \n",
       "84             acre  \n",
       "159            acre  \n",
       "350            acre  \n",
       "248            acre  \n",
       "303            acre  \n",
       "140            acre  \n",
       "147            acre  \n",
       "378            acre  \n",
       "18             acre  \n",
       "85             acre  \n",
       "105            acre  \n",
       "94             acre  "
      ]
     },
     "execution_count": 122,
     "metadata": {},
     "output_type": "execute_result"
    }
   ],
   "source": [
    "# <aghatpande> on 18-Jan-2018\n",
    "# Lets see a sample field\n",
    "sampleField = toyFieldsDF[toyFieldsDF.field_id == \"17ba0791499db908433b80f37c5fbc89b870084b\"]\n",
    "len(sampleField)\n",
    "sampleField.sort_values(by=\"year\", inplace=True)\n",
    "sampleField"
   ]
  },
  {
   "cell_type": "markdown",
   "metadata": {},
   "source": [
    "#### As we can see above, each field has different field_area (acreage) per year. This may be because \n",
    "1. The organization decides to reserve a particular area within a field for harvesting per year.\n",
    "2. The organization decides to reserve a different areas for different crops within same year."
   ]
  },
  {
   "cell_type": "markdown",
   "metadata": {},
   "source": [
    "#### Lets check if sum of areas (per field) per year is same"
   ]
  },
  {
   "cell_type": "code",
   "execution_count": 128,
   "metadata": {
    "collapsed": false
   },
   "outputs": [
    {
     "data": {
      "text/html": [
       "<div>\n",
       "<table border=\"1\" class=\"dataframe\">\n",
       "  <thead>\n",
       "    <tr style=\"text-align: right;\">\n",
       "      <th></th>\n",
       "      <th></th>\n",
       "      <th>field_area</th>\n",
       "    </tr>\n",
       "    <tr>\n",
       "      <th>field_id</th>\n",
       "      <th>year</th>\n",
       "      <th></th>\n",
       "    </tr>\n",
       "  </thead>\n",
       "  <tbody>\n",
       "    <tr>\n",
       "      <th rowspan=\"3\" valign=\"top\">00ed44d041d6b0f8a538b2815fdb34b2dcee329c</th>\n",
       "      <th>2015</th>\n",
       "      <td>298.069184</td>\n",
       "    </tr>\n",
       "    <tr>\n",
       "      <th>2016</th>\n",
       "      <td>367.176503</td>\n",
       "    </tr>\n",
       "    <tr>\n",
       "      <th>2017</th>\n",
       "      <td>548.764229</td>\n",
       "    </tr>\n",
       "    <tr>\n",
       "      <th>02dc3fe6f889f3ece8daf456d26464d381bc9e55</th>\n",
       "      <th>2015</th>\n",
       "      <td>194.621312</td>\n",
       "    </tr>\n",
       "    <tr>\n",
       "      <th>03074faf1987f5325db3e511880d28a582293c64</th>\n",
       "      <th>2017</th>\n",
       "      <td>190.517286</td>\n",
       "    </tr>\n",
       "  </tbody>\n",
       "</table>\n",
       "</div>"
      ],
      "text/plain": [
       "                                               field_area\n",
       "field_id                                 year            \n",
       "00ed44d041d6b0f8a538b2815fdb34b2dcee329c 2015  298.069184\n",
       "                                         2016  367.176503\n",
       "                                         2017  548.764229\n",
       "02dc3fe6f889f3ece8daf456d26464d381bc9e55 2015  194.621312\n",
       "03074faf1987f5325db3e511880d28a582293c64 2017  190.517286"
      ]
     },
     "execution_count": 128,
     "metadata": {},
     "output_type": "execute_result"
    }
   ],
   "source": [
    "# <aghatpande> on 18-Jan-2018\n",
    "# GroupByField and year to calculate acreage per field per year\n",
    "fieldGroupByDF = toyFieldsDF.groupby([\"field_id\", \"year\"]).agg({'field_area':'sum'})\n",
    "fieldGroupByDF.head(5)"
   ]
  },
  {
   "cell_type": "markdown",
   "metadata": {},
   "source": [
    "#### As seen from above result, even the field_areas per year is not same for a given field."
   ]
  },
  {
   "cell_type": "code",
   "execution_count": 48,
   "metadata": {
    "collapsed": false,
    "scrolled": true
   },
   "outputs": [
    {
     "data": {
      "text/html": [
       "<div>\n",
       "<table border=\"1\" class=\"dataframe\">\n",
       "  <thead>\n",
       "    <tr style=\"text-align: right;\">\n",
       "      <th></th>\n",
       "      <th>grower</th>\n",
       "      <th>organization_id</th>\n",
       "      <th>new_org_id</th>\n",
       "    </tr>\n",
       "  </thead>\n",
       "  <tbody>\n",
       "    <tr>\n",
       "      <th>0</th>\n",
       "      <td>Cavanaugh Farm</td>\n",
       "      <td>bf08b038-921c-482f-85b7-17c52aa98095</td>\n",
       "      <td>fe62dee029474d52346542845674529025594056</td>\n",
       "    </tr>\n",
       "    <tr>\n",
       "      <th>1</th>\n",
       "      <td>Depner Farm</td>\n",
       "      <td>c0d679bb-50c3-40b2-8a6b-313b6010aae6</td>\n",
       "      <td>106e6791d0f181b391cde800e74fdc14d529dc0a</td>\n",
       "    </tr>\n",
       "    <tr>\n",
       "      <th>2</th>\n",
       "      <td>Austin Farm</td>\n",
       "      <td>c9a331d4-68fb-4946-9e4e-fdca1eb268b3</td>\n",
       "      <td>0966e34316e39217e4f26fbe20fc14e24c26567b</td>\n",
       "    </tr>\n",
       "    <tr>\n",
       "      <th>3</th>\n",
       "      <td>Batte Farm</td>\n",
       "      <td>8bbd1e4f-8783-433d-ac74-27e81d67fb43</td>\n",
       "      <td>513612757cd6094d98b6a82a01d6f115fe9ae88c</td>\n",
       "    </tr>\n",
       "    <tr>\n",
       "      <th>4</th>\n",
       "      <td>Sifuentes Farm</td>\n",
       "      <td>35cedd2e-a117-4713-983f-3574fffce422</td>\n",
       "      <td>2ec53b20e3a9f6ff73d290ef3e8e8f30a2a30235</td>\n",
       "    </tr>\n",
       "  </tbody>\n",
       "</table>\n",
       "</div>"
      ],
      "text/plain": [
       "           grower                       organization_id  \\\n",
       "0  Cavanaugh Farm  bf08b038-921c-482f-85b7-17c52aa98095   \n",
       "1     Depner Farm  c0d679bb-50c3-40b2-8a6b-313b6010aae6   \n",
       "2     Austin Farm  c9a331d4-68fb-4946-9e4e-fdca1eb268b3   \n",
       "3      Batte Farm  8bbd1e4f-8783-433d-ac74-27e81d67fb43   \n",
       "4  Sifuentes Farm  35cedd2e-a117-4713-983f-3574fffce422   \n",
       "\n",
       "                                 new_org_id  \n",
       "0  fe62dee029474d52346542845674529025594056  \n",
       "1  106e6791d0f181b391cde800e74fdc14d529dc0a  \n",
       "2  0966e34316e39217e4f26fbe20fc14e24c26567b  \n",
       "3  513612757cd6094d98b6a82a01d6f115fe9ae88c  \n",
       "4  2ec53b20e3a9f6ff73d290ef3e8e8f30a2a30235  "
      ]
     },
     "execution_count": 48,
     "metadata": {},
     "output_type": "execute_result"
    }
   ],
   "source": [
    "# <aghatpande> on 18-Jan-2018\n",
    "# Lets explore the toy_orgs data\n",
    "toyOrgsDF.head(5)"
   ]
  },
  {
   "cell_type": "code",
   "execution_count": 129,
   "metadata": {
    "collapsed": false
   },
   "outputs": [
    {
     "data": {
      "text/plain": [
       "grower             False\n",
       "organization_id    False\n",
       "new_org_id         False\n",
       "dtype: bool"
      ]
     },
     "execution_count": 129,
     "metadata": {},
     "output_type": "execute_result"
    }
   ],
   "source": [
    "# <aghatpande> on 18-Jan-2018\n",
    "# Lets check if we have any missing data/Nulls\n",
    "pd.isnull(toyOrgsDF).sum() > 0"
   ]
  },
  {
   "cell_type": "code",
   "execution_count": null,
   "metadata": {
    "collapsed": true
   },
   "outputs": [],
   "source": []
  }
 ],
 "metadata": {
  "kernelspec": {
   "display_name": "Python 2",
   "language": "python",
   "name": "python2"
  },
  "language_info": {
   "codemirror_mode": {
    "name": "ipython",
    "version": 2
   },
   "file_extension": ".py",
   "mimetype": "text/x-python",
   "name": "python",
   "nbconvert_exporter": "python",
   "pygments_lexer": "ipython2",
   "version": "2.7.11"
  }
 },
 "nbformat": 4,
 "nbformat_minor": 0
}
